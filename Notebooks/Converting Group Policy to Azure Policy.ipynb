{
    "metadata": {
        "kernelspec": {
            "name": "powershell",
            "display_name": "PowerShell"
        },
        "language_info": {
            "name": "powershell",
            "codemirror_mode": "shell",
            "mimetype": "text/x-sh",
            "file_extension": ".ps1"
        }
    },
    "nbformat_minor": 2,
    "nbformat": 4,
    "cells": [
        {
            "cell_type": "markdown",
            "source": [
                "[![Video Placeholder](./videolink.png)](https://youtu.be/9mWOVKnrMHc \"Converting GPO's to Azure Policy with PowerShell\")"
            ],
            "metadata": {
                "azdata_cell_guid": "79c35176-109e-4c91-abe5-81604fd53f81"
            }
        },
        {
            "cell_type": "markdown",
            "source": [
                "# Converting Group Policy to Azure Policy Guest Configuration "
            ],
            "metadata": {
                "azdata_cell_guid": "d1450797-b795-468b-95c5-02898b8b1d73"
            }
        },
        {
            "cell_type": "markdown",
            "source": [
                "In this walk through, we create an Azure Policy Guest Configuration package from a Group Policy Object (GPO). Specifically, we work with the Windows Server 2019 Security Baseline. \r\n",
                "\r\n",
                "Scenario: Customer has a local group policy object, and they would like to define an equivalent Azure Policy. Using BaselineMAangement and GuestConfiguration packages, this translation is already possible. We walk through start to finish how customers can go from starting with a GPO to finishing with assigning the equivalent Azure Policy to an Azure VM."
            ],
            "metadata": {
                "azdata_cell_guid": "04d161bf-dcf8-4816-abb8-24f1fa62bb86"
            }
        },
        {
            "cell_type": "markdown",
            "source": [
                "# Part 1: Download GPO and Related Modules"
            ],
            "metadata": {
                "azdata_cell_guid": "b7e15429-ed85-43d3-8bbe-a910fab52f25"
            }
        },
        {
            "cell_type": "markdown",
            "source": [
                "In this first set of steps, we will install the Baseline Management module, related DSC resources, and Azure modules. Note that most users have some of these modules already downloaded, and installation can take time. Then, we use the MapGuidsToGpoNames script to view the downloaded GPO's."
            ],
            "metadata": {
                "azdata_cell_guid": "a5851a87-debf-4cd1-8f90-de205876e40b"
            }
        },
        {
            "cell_type": "code",
            "source": [
                "# Install the BaselineManagement module, Guest Configuration DSC resource module, and relevant Azure modules from PowerShell Gallery\n",
                "Install-Module az.resources, az.policyinsights, az.storage, guestconfiguration, gpregistrypolicyparser, securitypolicydsc, auditpolicydsc, baselinemanagement -scope currentuser -Repository psgallery -AllowClobber -Force"
            ],
            "metadata": {
                "azdata_cell_guid": "f5277996-4ce1-401a-8642-4164b94a1a53"
            },
            "outputs": [],
            "execution_count": null
        },
        {
            "cell_type": "code",
            "source": [
                "        Install-Module az.resources, az.policyinsights, az.storage, guestconfiguration, gpregistrypolicyparser, securitypolicydsc, auditpolicydsc, baselinemanagement -scope currentuser -Repository psgallery -AllowClobber -force\r\n",
                "        Install-Module -Name 'securitypolicdsc' -RequiredVersion 2.10.0.0\r\n",
                "        (Get-Content -Path $outputscriptlocation).Replace(\"Import-DSCResource -ModuleName 'SecurityPolicyDSC'\", \"Import-DSCResource -ModuleName 'SecurityPolicyDSC' -ModuleVersion '2.10.0.0'\") | Set-Content -Path $outputscriptlocation\r\n",
                ""
            ],
            "metadata": {
                "azdata_cell_guid": "42815c1e-e948-4d21-a215-d8dab27a98b3"
            },
            "outputs": [],
            "execution_count": null
        },
        {
            "cell_type": "code",
            "source": [
                "# Download the 2019 Baseline files from https://docs.microsoft.com/windows/security/threat-protection/security-compliance-toolkit-10\n",
                "New-Item -Path 'C:\\git\\policyfiles\\downloads' -Type Directory\n",
                "Invoke-WebRequest -Uri 'https://download.microsoft.com/download/8/5/C/85C25433-A1B0-4FFA-9429-7E023E7DA8D8/Windows%2010%20Version%201909%20and%20Windows%20Server%20Version%201909%20Security%20Baseline.zip' -Out C:\\git\\policyfiles\\downloads\\Server2019Baseline.zip"
            ],
            "metadata": {
                "azdata_cell_guid": "f74d1a93-190f-400e-ba82-ac9e227f0bd1"
            },
            "outputs": [],
            "execution_count": null
        },
        {
            "cell_type": "code",
            "source": [
                "# Unblock and expand the downloaded Server 2019 Baseline.\n",
                "Unblock-File C:\\git\\policyfiles\\downloads\\Server2019Baseline.zip\n",
                "Expand-Archive -Path C:\\git\\policyfiles\\downloads\\Server2019Baseline.zip -DestinationPath C:\\git\\policyfiles\\downloads\\"
            ],
            "metadata": {
                "azdata_cell_guid": "0173cdeb-62ef-489f-acda-03b13196d918"
            },
            "outputs": [],
            "execution_count": null
        },
        {
            "cell_type": "code",
            "source": [
                "# Show content details of downloaded GPOs\n",
                "C:\\git\\policyfiles\\downloads\\Scripts\\Tools\\MapGuidsToGpoNames.ps1 -rootdir C:\\git\\policyfiles\\downloads\\GPOs\\ -Verbose"
            ],
            "metadata": {
                "azdata_cell_guid": "ca934e60-6f03-4135-99d1-6361a3f2015e"
            },
            "outputs": [],
            "execution_count": null
        },
        {
            "cell_type": "markdown",
            "source": [
                "# Part 2: Convert GPO to Azure Policy Guest Configuration"
            ],
            "metadata": {
                "azdata_cell_guid": "699c37bb-baaa-41f2-8032-77decf0667a8"
            }
        },
        {
            "cell_type": "markdown",
            "source": [
                "In the next set of steps, we use the Baseline Management Module to convert from Group Policy Object to Desired State Configuration. Then, we use the Guest Configuration module to convert the Desired State Configuration into an Azure Policy Guest Configuration Package."
            ],
            "metadata": {
                "azdata_cell_guid": "106c55bf-81f0-4e99-9f22-709a47e60858"
            }
        },
        {
            "cell_type": "code",
            "source": [
                "# Convert the Group Policy to Desired State Configuration using the Baseline Management Module.\n",
                "ConvertFrom-GPO -Path 'C:\\git\\policyfiles\\downloads\\GPOs\\{3657C7A2-3FF3-4C21-9439-8FDF549F1D68}\\' -OutputPath 'C:\\git\\policyfiles\\' -OutputConfigurationScript -Verbose"
            ],
            "metadata": {
                "azdata_cell_guid": "8ba2db84-721f-457d-afe9-d64f7cf18172"
            },
            "outputs": [],
            "execution_count": null
        },
        {
            "cell_type": "code",
            "source": [
                "# Rename, reformat, and run the converted scripts before creating a policy content package.\n",
                "Rename-Item -Path C:\\git\\policyfiles\\DSCFromGPO.ps1 -NewName C:\\git\\policyfiles\\Server2019Baseline.ps1\n",
                "(Get-Content -Path C:\\git\\policyfiles\\Server2019Baseline.ps1).Replace('DSCFromGPO', 'Server2019Baseline') | Set-Content -Path C:\\git\\policyfiles\\Server2019Baseline.ps1\n",
                "(Get-Content -Path C:\\git\\policyfiles\\Server2019Baseline.ps1).Replace('PSDesiredStateConfiguration', 'PSDscResources') | Set-Content -Path C:\\git\\policyfiles\\Server2019Baseline.ps1\n",
                "C:\\git\\policyfiles\\Server2019Baseline.ps1"
            ],
            "metadata": {
                "azdata_cell_guid": "bdd24bd7-62a2-490a-8a0e-bf6e36135c08"
            },
            "outputs": [],
            "execution_count": null
        },
        {
            "cell_type": "code",
            "source": [
                "# Create an Azure Policy Guest Configuration content package.\n",
                "New-GuestConfigurationPackage -Name Server2019Baseline -Configuration c:\\git\\policyfiles\\localhost.mof -Verbose"
            ],
            "metadata": {
                "azdata_cell_guid": "acf12ee8-df64-4e09-ba42-31f2cf11a90b"
            },
            "outputs": [],
            "execution_count": null
        },
        {
            "cell_type": "markdown",
            "source": [
                "# Part 3: Publish Azure Policy Guest Configuration"
            ],
            "metadata": {
                "azdata_cell_guid": "108601c3-3d86-4836-a155-c1cbf4d76756"
            }
        },
        {
            "cell_type": "markdown",
            "source": [
                "In the final set of steps, we publish the Azure Policy Guest Configuration package to blob storage in a storage account. Then, we use the uri to publish the Azure Policy definition to our Azure Account. Prior to publishing, run Connect-AzAccount -Subscription xxxxx to connect with the appropriate account and subscription."
            ],
            "metadata": {
                "azdata_cell_guid": "fbf60254-6a7d-45aa-90c6-90e3fb06c9d8"
            }
        },
        {
            "cell_type": "code",
            "source": [
                "function publish {\n",
                "     param(\n",
                "     [Parameter(Mandatory=$true)]\n",
                "     $resourceGroup,\n",
                "     [Parameter(Mandatory=$true)]\n",
                "     $storageAccountName,\n",
                "     [Parameter(Mandatory=$true)]\n",
                "     $storageContainerName,\n",
                "     [Parameter(Mandatory=$true)]\n",
                "     $filePath,\n",
                "     [Parameter(Mandatory=$true)]\n",
                "     $blobName\n",
                "     )\n",
                "\n",
                "     # Get Storage Context\n",
                "     $Context = Get-AzStorageAccount -ResourceGroupName $resourceGroup `\n",
                "         -Name $storageAccountName | `\n",
                "         ForEach-Object { $_.Context }\n",
                "\n",
                "     # Upload file\n",
                "     $Blob = Set-AzStorageBlobContent -Context $Context `\n",
                "         -Container $storageContainerName `\n",
                "         -File $filePath `\n",
                "         -Blob $blobName `\n",
                "         -Force\n",
                "\n",
                "     # Get url with SAS token\n",
                "     $StartTime = (Get-Date)\n",
                "     $ExpiryTime = $StartTime.AddYears('3')  # THREE YEAR EXPIRATION\n",
                "     $SAS = New-AzStorageBlobSASToken -Context $Context `\n",
                "         -Container $storageContainerName `\n",
                "         -Blob $blobName `\n",
                "         -StartTime $StartTime `\n",
                "         -ExpiryTime $ExpiryTime `\n",
                "         -Permission rl `\n",
                "         -FullUri\n",
                "\n",
                "     # Output\n",
                "     return $SAS\n",
                " }"
            ],
            "metadata": {
                "azdata_cell_guid": "26eb4eef-2fe8-4c8b-b8a3-f337b2465a73"
            },
            "outputs": [],
            "execution_count": null
        },
        {
            "cell_type": "code",
            "source": [
                "# Replace the $resourceGroup, $storageAccount, and $storageContainer values below.\n",
                "\n",
                "$resourceGroup = 'gpodemo'\n",
                "$storageAccount = 'gpodemostorage'\n",
                "$storageContainer = 'gpodemocontainer'\n",
                "$path = 'C:\\Windows\\System32\\Server2019Baseline\\Server2019Baseline.zip'\n",
                "$blob = 'Server2019Baseline.zip'"
            ],
            "metadata": {
                "azdata_cell_guid": "c332f39a-d765-46e2-9c23-9fdf6c68f5dd",
                "tags": []
            },
            "outputs": [],
            "execution_count": null
        },
        {
            "cell_type": "code",
            "source": [
                "# Use the publish function with the assigned parameters to publish the Guest Configuration package to public blob storage.\n",
                "$uri = publish -resourceGroup $resourceGroup -storageAccountName $storageAccount -storageContainerName $storageContainer -filePath $path -blobName $blob"
            ],
            "metadata": {
                "azdata_cell_guid": "5e98e133-c8b8-4090-adc2-8a11a87a57b9"
            },
            "outputs": [],
            "execution_count": null
        },
        {
            "cell_type": "code",
            "source": [
                "# Once a Guest Configuration custom policy package has been created and uploaded, create the Guest Configuration policy definition. Use the New-GuestConfigurationPolicy cmdlet to create the Guest Configuration.\n",
                "New-GuestConfigurationPolicy -ContentUri $Uri -DisplayName 'Server 2019 Configuration Baseline' -Description 'Validation of using a completely custom baseline configuration for Windows VMs' -Path C:\\git\\policyfiles\\policy -Platform Windows"
            ],
            "metadata": {
                "azdata_cell_guid": "038340c3-e5a7-4fbf-ba88-ff6ea849533b"
            },
            "outputs": [],
            "execution_count": null
        },
        {
            "cell_type": "code",
            "source": [
                "# Publish the policy definitions using the Publish-GuestConfigurationPolicy cmdlet. \n",
                "Publish-GuestConfigurationPolicy -Path C:\\git\\policyfiles\\policy\\ -Verbose"
            ],
            "metadata": {
                "azdata_cell_guid": "0f741941-0702-4fc7-b475-0d62253bdbf5"
            },
            "outputs": [],
            "execution_count": null
        }
    ]
}